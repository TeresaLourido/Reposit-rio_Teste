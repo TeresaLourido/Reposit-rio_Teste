{
  "nbformat": 4,
  "nbformat_minor": 0,
  "metadata": {
    "colab": {
      "provenance": [],
      "authorship_tag": "ABX9TyMcCHK85l3MUxMuRAKAPD3x",
      "include_colab_link": true
    },
    "kernelspec": {
      "name": "python3",
      "display_name": "Python 3"
    },
    "language_info": {
      "name": "python"
    }
  },
  "cells": [
    {
      "cell_type": "markdown",
      "metadata": {
        "id": "view-in-github",
        "colab_type": "text"
      },
      "source": [
        "<a href=\"https://colab.research.google.com/github/TeresaLourido/Reposit-rio_Teste/blob/main/Pesquisa_Linguagens.ipynb\" target=\"_parent\"><img src=\"https://colab.research.google.com/assets/colab-badge.svg\" alt=\"Open In Colab\"/></a>"
      ]
    },
    {
      "cell_type": "code",
      "source": [],
      "metadata": {
        "id": "KAP0gfSUo2u-"
      },
      "execution_count": null,
      "outputs": []
    },
    {
      "cell_type": "code",
      "execution_count": null,
      "metadata": {
        "colab": {
          "base_uri": "https://localhost:8080/"
        },
        "id": "LbhAgNU8mDM_",
        "outputId": "8eca4193-d0d1-4e16-a4d7-22ab26a66d99"
      },
      "outputs": [
        {
          "output_type": "execute_result",
          "data": {
            "text/plain": [
              "{'palavra': 'oauth',\n",
              " 'dica': 'implementar autenticação e autorização em aplicativos.'}"
            ]
          },
          "metadata": {},
          "execution_count": 11
        }
      ],
      "source": [
        "import requests\n",
        "url = \"https://raw.githubusercontent.com/guilhermeonrails/api-imersao-ia/main/words.json\"\n",
        "resposta = requests.get(url)\n",
        "data = resposta.json()\n",
        "len(data)\n",
        "type(data)\n",
        "data[0]\n",
        "data[42]\n",
        "data[-1]\n",
        "\n"
      ]
    },
    {
      "cell_type": "code",
      "source": [
        "import random\n",
        "valor_secreto = random.choice(data)\n",
        "palavra_secreta = valor_secreto['palavra']\n",
        "dica = valor_secreto['dica']\n",
        "# o f é capaz de juntar palavras e variáveis\n",
        "print(f'A palavra secreta tem {len(palavra_secreta)} letras -> {dica}')\n"
      ],
      "metadata": {
        "colab": {
          "base_uri": "https://localhost:8080/"
        },
        "id": "smHYzo8tqRaO",
        "outputId": "bcee68b8-8387-4f66-abaf-b5d26a6b16a6"
      },
      "execution_count": null,
      "outputs": [
        {
          "output_type": "stream",
          "name": "stdout",
          "text": [
            "A palavra secreta tem 5 letras -> utilizar e administrar sistemas operacionais de código aberto.\n"
          ]
        }
      ]
    },
    {
      "cell_type": "code",
      "source": [
        "import requests\n",
        "import random\n",
        "url = \"https://raw.githubusercontent.com/guilhermeonrails/api-imersao-ia/main/words.json\"\n",
        "resposta = requests.get(url)\n",
        "data = resposta.json()\n",
        "valor_secreto = random.choice(data)\n",
        "palavra_secreta = valor_secreto['palavra']\n",
        "dica = valor_secreto['dica']\n",
        "#print(f'A palavra secreta tem {len(palavra_secreta)} letras -> {dica}')\n",
        "\n",
        "print(f'A palavra secreta tem {len(palavra_secreta)} letras')\n",
        "resposta = input(f'a dica é {dica}')\n",
        "\n",
        "if resposta == palavra_secreta:\n",
        "  print('acertou')\n",
        "else:\n",
        "  print(f'Errou, a palvra secreta é {palavra_secreta}')\n",
        "\n"
      ],
      "metadata": {
        "colab": {
          "base_uri": "https://localhost:8080/"
        },
        "id": "AE5Z6W1KxnXO",
        "outputId": "057cdace-976f-4204-e83b-9a130211194e"
      },
      "execution_count": null,
      "outputs": [
        {
          "output_type": "stream",
          "name": "stdout",
          "text": [
            "A palavra secreta tem 6 letras\n",
            "a dica é utilizar serviços e produtos da google para desenvolvimento e negócios.XXXXXX\n",
            "Errou, a palvra secreta é google\n"
          ]
        }
      ]
    }
  ]
}